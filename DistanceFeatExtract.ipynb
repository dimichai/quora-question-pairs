{
  "nbformat": 4,
  "nbformat_minor": 0,
  "metadata": {
    "colab": {
      "name": "Untitled0.ipynb",
      "version": "0.3.2",
      "provenance": [],
      "collapsed_sections": [],
      "include_colab_link": true
    },
    "kernelspec": {
      "name": "python3",
      "display_name": "Python 3"
    }
  },
  "cells": [
    {
      "cell_type": "markdown",
      "metadata": {
        "id": "view-in-github",
        "colab_type": "text"
      },
      "source": [
        "<a href=\"https://colab.research.google.com/github/jimichailidis/quora-question-pairs/blob/master/DistanceFeatExtract.ipynb\" target=\"_parent\"><img src=\"https://colab.research.google.com/assets/colab-badge.svg\" alt=\"Open In Colab\"/></a>"
      ]
    },
    {
      "metadata": {
        "id": "-Tncl75SsN8c",
        "colab_type": "code",
        "colab": {}
      },
      "cell_type": "code",
      "source": [
        "import pandas as pd\n",
        "from sklearn.feature_extraction.text import CountVectorizer\n",
        "from scipy.spatial.distance import braycurtis, canberra, chebyshev, cityblock, correlation, cosine, euclidean, minkowski"
      ],
      "execution_count": 0,
      "outputs": []
    },
    {
      "metadata": {
        "id": "Q6D0kq_7tH8M",
        "colab_type": "code",
        "colab": {}
      },
      "cell_type": "code",
      "source": [
        "def get_vectors(*strs):\n",
        "    text = [t for t in strs]\n",
        "    vectorizer = CountVectorizer(text)\n",
        "    count_arrays =vectorizer.fit_transform(text).toarray()\n",
        "    return count_arrays[0], count_arrays[1]\n"
      ],
      "execution_count": 0,
      "outputs": []
    },
    {
      "metadata": {
        "id": "oWwd5Oph8RLA",
        "colab_type": "text"
      },
      "cell_type": "markdown",
      "source": [
        "load data"
      ]
    },
    {
      "metadata": {
        "id": "SK3GZDoTshgd",
        "colab_type": "code",
        "colab": {}
      },
      "cell_type": "code",
      "source": [
        "train = pd.read_csv('train_data.csv')"
      ],
      "execution_count": 0,
      "outputs": []
    },
    {
      "metadata": {
        "id": "0MJk1pHzMhGK",
        "colab_type": "text"
      },
      "cell_type": "markdown",
      "source": [
        "generate vector counts\n",
        "\n"
      ]
    },
    {
      "metadata": {
        "id": "aIrtbrdRMgex",
        "colab_type": "code",
        "colab": {}
      },
      "cell_type": "code",
      "source": [
        "train['vectors'] = train.apply(lambda x: get_vectors(str(x['question1']), str(x['question2'])), axis=1)"
      ],
      "execution_count": 0,
      "outputs": []
    },
    {
      "metadata": {
        "id": "izmpPa9yLv2K",
        "colab_type": "text"
      },
      "cell_type": "markdown",
      "source": [
        "Calculate distances"
      ]
    },
    {
      "metadata": {
        "id": "2JzJtO3AGJCn",
        "colab_type": "code",
        "colab": {
          "base_uri": "https://localhost:8080/",
          "height": 71
        },
        "outputId": "3c7595f3-706a-4dfc-a4eb-d1fde06c5298"
      },
      "cell_type": "code",
      "source": [
        "train_distances = pd.DataFrame()\n",
        "#really inefficent dumb way of doing this, should use pdist, my bad\n",
        "train_distances['braycurtis'] = train.apply(lambda x: braycurtis(x['vectors'][0], x['vectors'][1]), axis=1)\n",
        "train_distances['canberra'] = train.apply(lambda x: canberra(x['vectors'][0], x['vectors'][1]), axis=1)\n",
        "train_distances['cityblock'] = train.apply(lambda x: cityblock(x['vectors'][0], x['vectors'][1]), axis=1)\n",
        "train_distances['correlation'] = train.apply(lambda x: correlation(x['vectors'][0], x['vectors'][1]), axis=1)\n",
        "train_distances['cosine'] = train.apply(lambda x: cosine(x['vectors'][0], x['vectors'][1]), axis=1)\n",
        "train_distances['euclidean'] = train.apply(lambda x: euclidean(x['vectors'][0], x['vectors'][1]), axis=1)\n",
        "train_distances['minkowski'] = train.apply(lambda x: minkowski(x['vectors'][0], x['vectors'][1]), axis=1)"
      ],
      "execution_count": 91,
      "outputs": [
        {
          "output_type": "stream",
          "text": [
            "/usr/local/lib/python3.6/dist-packages/scipy/spatial/distance.py:698: RuntimeWarning: invalid value encountered in double_scalars\n",
            "  dist = 1.0 - uv / np.sqrt(uu * vv)\n"
          ],
          "name": "stderr"
        }
      ]
    },
    {
      "metadata": {
        "id": "ccpF7uoY8y-s",
        "colab_type": "code",
        "colab": {}
      },
      "cell_type": "code",
      "source": [
        "train_distances.to_csv('train_distances', index=False)"
      ],
      "execution_count": 0,
      "outputs": []
    },
    {
      "metadata": {
        "id": "ELkaoqd-Lzpv",
        "colab_type": "code",
        "colab": {}
      },
      "cell_type": "code",
      "source": [
        ""
      ],
      "execution_count": 0,
      "outputs": []
    }
  ]
}